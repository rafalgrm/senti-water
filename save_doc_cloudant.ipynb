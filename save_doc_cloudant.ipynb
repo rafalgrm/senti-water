{
 "cells": [
  {
   "cell_type": "code",
   "execution_count": 3,
   "metadata": {},
   "outputs": [
    {
     "data": {
      "text/plain": [
       "<ibm_cloud_sdk_core.detailed_response.DetailedResponse at 0x10bed44c0>"
      ]
     },
     "execution_count": 3,
     "metadata": {},
     "output_type": "execute_result"
    }
   ],
   "source": [
    "from ibmcloudant.cloudant_v1 import CloudantV1, Document\n",
    "from ibm_cloud_sdk_core.authenticators import IAMAuthenticator\n",
    "\n",
    "authenticator = IAMAuthenticator(\"\")\n",
    "service = CloudantV1(authenticator=authenticator)\n",
    "service.set_service_url(\"\")\n",
    "service.get_all_dbs().get_result()\n",
    "example_doc = Document(\n",
    "    type=\"Feature\",\n",
    "    properties={\"idx\": 266},\n",
    "    geometry={\n",
    "        \"type\": \"Point\",\n",
    "        \"coordinates\": [22.708, 54.846],\n",
    "    }\n",
    ")\n",
    "service.put_document(db='senti-water-basic', doc_id='0123456789', document=example_doc)"
   ]
  }
 ],
 "metadata": {
  "kernelspec": {
   "display_name": "Python 3.10.8 ('venv': venv)",
   "language": "python",
   "name": "python3"
  },
  "language_info": {
   "codemirror_mode": {
    "name": "ipython",
    "version": 3
   },
   "file_extension": ".py",
   "mimetype": "text/x-python",
   "name": "python",
   "nbconvert_exporter": "python",
   "pygments_lexer": "ipython3",
   "version": "3.10.8"
  },
  "orig_nbformat": 4,
  "vscode": {
   "interpreter": {
    "hash": "61dac3204c447afccb3ba577a19715f6f04cab09dd87ad802652bdbf9e069385"
   }
  }
 },
 "nbformat": 4,
 "nbformat_minor": 2
}
