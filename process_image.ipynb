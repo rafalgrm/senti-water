{
 "cells": [
  {
   "cell_type": "code",
   "execution_count": null,
   "metadata": {},
   "outputs": [],
   "source": [
    "# Imports\n",
    "import rasterio\n",
    "from sklearn.cluster import DBSCAN\n",
    "from pyproj import transform\n",
    "from rasterio.crs import CRS\n",
    "from rasterio.warp import transform\n",
    "\n",
    "FILEPATH_PREFIX = \"downloads/S2A_MSIL2A_20210716T095031_N0301_R079_T34UEF_20210716T120258.SAFE/GRANULE/L2A_T34UEF_A031679_20210716T095359/IMG_DATA/R10m/T34UEF_20210716T095031\"\n",
    "CLUSTER_THRESHOLD = 8000"
   ]
  },
  {
   "cell_type": "code",
   "execution_count": null,
   "metadata": {},
   "outputs": [],
   "source": [
    "# Read data\n",
    "dataset_band_1 = rasterio.open(FILEPATH_PREFIX + '_B03_10m.jp2')\n",
    "dataset_band_2 = rasterio.open(FILEPATH_PREFIX + '_B08_10m.jp2')"
   ]
  },
  {
   "cell_type": "code",
   "execution_count": null,
   "metadata": {},
   "outputs": [],
   "source": [
    "# Water Mask calculation\n",
    "image_band_1 = dataset_band_1.read(1)\n",
    "image_band_2 = dataset_band_2.read(1)\n",
    "image_band_1_norm = image_band_1 / np.max(np.abs(image_band_1))\n",
    "image_band_2_norm = image_band_2 / np.max(np.abs(image_band_2))\n",
    "image_ndwi = (image_band_1_norm - image_band_2_norm) // (image_band_1_norm + image_band_2_norm + np.ones((image_band_1_norm.shape[0], image_band_1_norm.shape[1]))) + np.ones((image_band_1_norm.shape[0], image_band_1_norm.shape[1]))\n",
    "water_mask = image_ndwi > 0.1"
   ]
  },
  {
   "cell_type": "code",
   "execution_count": null,
   "metadata": {},
   "outputs": [],
   "source": [
    "# Clustering\n",
    "water_indexes = np.transpose(water_mask.nonzero())\n",
    "clusters = DBSCAN(eps = 5.0, min_samples = 10, algorithm='kd_tree', n_jobs = -1).fit(water_indexes)\n",
    "unique, counts = np.unique(clusters.labels_, return_counts = True)\n",
    "cluster_indexes = dict(zip(unique, counts))\n",
    "cluster_indexes_above_thre = {k: v for k, v in cluster_indexes.items() if v > CLUSTER_THRESHOLD and k != -1}\n",
    "cluster_mask = [idx in cluster_indexes_above_thre for idx in clusters.labels_]\n",
    "water_indexes_image_coords = water_indexes[cluster_mask]\n"
   ]
  },
  {
   "cell_type": "code",
   "execution_count": null,
   "metadata": {},
   "outputs": [],
   "source": [
    "# Real Coords calculation\n",
    "data_transform = dataset.transform\n",
    "move_to_real_coords = lambda water_idx: data_transform * water_idx\n",
    "\n",
    "zipped_water_clusters = zip(water_indexes, clusters.labels_)\n",
    "water_cluster_points = {}\n",
    "for point, cluster_idx in zipped_water_clusters:\n",
    "    if cluster_idx not in water_cluster_points and cluster_idx in cluster_indexes_above_thre:\n",
    "        water_cluster_points[cluster_idx] = point\n",
    "\n",
    "water_indexes_real_coords = np.array([move_to_real_coords(np.array([xi[1], xi[0]])) for xi in water_cluster_points.values()])\n",
    "\n",
    "zipped_final_result = zip(water_cluster_points, water_indexes_real_coords)\n",
    "new_crs = CRS.from_epsg(4326)\n",
    "\n",
    "export_to_db_dic = {}\n",
    "\n",
    "for result in list(zipped_final_result):\n",
    "    new_coo = transform(dataset2.crs, new_crs, xs=[result[1][0]], ys=[result[1][1]])\n",
    "    export_to_db_dic[result[0]] = [new_coo[1][0], new_coo[0][0]]\n",
    "\n",
    "export_to_db_dic\n"
   ]
  }
 ],
 "metadata": {
  "language_info": {
   "name": "python"
  },
  "orig_nbformat": 4
 },
 "nbformat": 4,
 "nbformat_minor": 2
}
