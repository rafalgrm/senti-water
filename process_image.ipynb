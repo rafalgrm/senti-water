{
 "cells": [
  {
   "cell_type": "markdown",
   "metadata": {},
   "source": [
    "# Process image"
   ]
  },
  {
   "cell_type": "markdown",
   "metadata": {},
   "source": [
    "## Imports"
   ]
  },
  {
   "cell_type": "code",
   "execution_count": 61,
   "metadata": {},
   "outputs": [],
   "source": [
    "import numpy as np\n",
    "import rasterio\n",
    "from pyproj import transform\n",
    "from rasterio.crs import CRS\n",
    "from rasterio.warp import transform\n",
    "from scipy.spatial import ConvexHull\n",
    "from shapely.geometry import Polygon\n",
    "from sklearn.cluster import DBSCAN\n",
    "import matplotlib.pyplot as plt\n",
    "from ibmcloudant.cloudant_v1 import CloudantV1, Document\n",
    "from ibm_cloud_sdk_core.authenticators import IAMAuthenticator\n",
    "import time"
   ]
  },
  {
   "cell_type": "markdown",
   "metadata": {},
   "source": [
    "## Variables"
   ]
  },
  {
   "cell_type": "code",
   "execution_count": 62,
   "metadata": {},
   "outputs": [],
   "source": [
    "CLUSTER_THRESHOLD = 8000\n",
    "SHOW_IMAGES = True\n",
    "SHOW_DATA = False"
   ]
  },
  {
   "cell_type": "markdown",
   "metadata": {},
   "source": [
    "If you want to save the water reservoirs to the database, enter `True` as a value of `SAVE_TO_CLOUDANT` variable, then complete the `APIKEY` and `URL` with your credentials. Remember that you will need credentials to save data. You must set name prefix of waters tanks you want to save."
   ]
  },
  {
   "cell_type": "code",
   "execution_count": 63,
   "metadata": {},
   "outputs": [],
   "source": [
    "SAVE_TO_CLOUDANT = False\n",
    "APIKEY = \"\"\n",
    "URL = \"\"\n",
    "DATABASE_NAME_PREFIX = 'mazury_2022_' # region_year_"
   ]
  },
  {
   "cell_type": "markdown",
   "metadata": {},
   "source": [
    "## Actual program"
   ]
  },
  {
   "cell_type": "markdown",
   "metadata": {},
   "source": [
    "### Opening files"
   ]
  },
  {
   "cell_type": "code",
   "execution_count": 64,
   "metadata": {},
   "outputs": [],
   "source": [
    "file = open(\"filepath.txt\", \"r\")\n",
    "filepath = file.read()\n",
    "\n",
    "dataset_band_1 = rasterio.open(filepath + '_B03_10m.jp2')\n",
    "dataset_band_2 = rasterio.open(filepath + '_B08_10m.jp2')"
   ]
  },
  {
   "cell_type": "markdown",
   "metadata": {},
   "source": [
    "### Water mask calculation"
   ]
  },
  {
   "cell_type": "code",
   "execution_count": 65,
   "metadata": {},
   "outputs": [],
   "source": [
    "image_band_1 = dataset_band_1.read(1)\n",
    "image_band_2 = dataset_band_2.read(1)\n",
    "image_band_1_norm = image_band_1 / np.max(np.abs(image_band_1))\n",
    "image_band_2_norm = image_band_2 / np.max(np.abs(image_band_2))\n",
    "image_ndwi = (image_band_1_norm - image_band_2_norm) // (image_band_1_norm + image_band_2_norm + np.ones((image_band_1_norm.shape[0], image_band_1_norm.shape[1]))) + np.ones((image_band_1_norm.shape[0], image_band_1_norm.shape[1]))\n",
    "water_mask = image_ndwi > 0.1"
   ]
  },
  {
   "cell_type": "markdown",
   "metadata": {},
   "source": [
    "### Clustering"
   ]
  },
  {
   "cell_type": "code",
   "execution_count": 66,
   "metadata": {},
   "outputs": [],
   "source": [
    "water_indexes = np.transpose(water_mask.nonzero())\n",
    "clusters = DBSCAN(eps = 5.0, min_samples = 10, algorithm='kd_tree', n_jobs = -1).fit(water_indexes)\n",
    "unique, counts = np.unique(clusters.labels_, return_counts = True)\n",
    "cluster_indexes = dict(zip(unique, counts))\n",
    "cluster_indexes_above_thre = {k: v for k, v in cluster_indexes.items() if v > CLUSTER_THRESHOLD and k != -1}\n",
    "cluster_mask = [idx in cluster_indexes_above_thre for idx in clusters.labels_]\n",
    "water_indexes_image_coords = water_indexes[cluster_mask]\n"
   ]
  },
  {
   "cell_type": "markdown",
   "metadata": {},
   "source": [
    "### Geometry"
   ]
  },
  {
   "cell_type": "code",
   "execution_count": 67,
   "metadata": {},
   "outputs": [],
   "source": [
    "hulls_pixels = []\n",
    "centroids = []\n",
    "surface_areas = []\n",
    "\n",
    "for index in cluster_indexes_above_thre:\n",
    "    zipped_water_clusters = zip(water_indexes, clusters.labels_)\n",
    "    pixels_in_cluster = []\n",
    "    for point, cluster_idx in zipped_water_clusters:\n",
    "        if cluster_idx == index:\n",
    "            pixels_in_cluster.append([point[1], point[0]]) \n",
    "\n",
    "    pixels_in_cluster = np.array(pixels_in_cluster)\n",
    "\n",
    "    hull = ConvexHull(pixels_in_cluster)\n",
    "    hull_pixels = []\n",
    "    for s in hull.simplices:\n",
    "        hull_pixels.append([pixels_in_cluster[s, 0], pixels_in_cluster[s, 1]])\n",
    "    hulls_pixels.append(hull_pixels)\n",
    "\n",
    "    cx = np.mean(pixels_in_cluster[:, 1])\n",
    "    cy = np.mean(pixels_in_cluster[:, 0])\n",
    "    centroids.append([cx, cy])\n",
    "\n",
    "    surface_area = len(pixels_in_cluster) * 100\n",
    "    surface_areas.append(surface_area)"
   ]
  },
  {
   "cell_type": "markdown",
   "metadata": {},
   "source": [
    "### Real Coords calculation"
   ]
  },
  {
   "cell_type": "code",
   "execution_count": 68,
   "metadata": {},
   "outputs": [
    {
     "data": {
      "image/png": "[encoded data removed]",
      "text/plain": [
       "<Figure size 640x480 with 1 Axes>"
      ]
     },
     "metadata": {},
     "output_type": "display_data"
    },
    {
     "data": {
      "text/plain": [
       "<Figure size 800x800 with 0 Axes>"
      ]
     },
     "metadata": {},
     "output_type": "display_data"
    }
   ],
   "source": [
    "real_coords_hulls_pixels = []\n",
    "real_coords_centroids = []\n",
    "\n",
    "new_crs = CRS.from_epsg(4326)\n",
    "\n",
    "data_transform = dataset_band_1.transform\n",
    "move_to_real_coords = lambda water_idx: data_transform * water_idx\n",
    "\n",
    "for n in hulls_pixels:\n",
    "    real_coords_hulls_pixels_first = []\n",
    "    real_coords_hulls_pixels_second = []\n",
    "    real_coords_hulls_pixels_connected = []\n",
    "\n",
    "    transformed_hulls_pixels_first = np.array([move_to_real_coords(np.array([xi[0][0], xi[1][0]])) for xi in n])\n",
    "    for hull_pixels in transformed_hulls_pixels_first:\n",
    "        real_coords_hull_pixels = transform(dataset_band_2.crs, new_crs, xs=[hull_pixels[0]], ys=[hull_pixels[1]])\n",
    "        real_coords_hulls_pixels_first.append([real_coords_hull_pixels[1][0], real_coords_hull_pixels[0][0]])\n",
    "\n",
    "    transformed_hulls_pixels_second = np.array([move_to_real_coords(np.array([xi[0][1], xi[1][1]])) for xi in n])\n",
    "    for hull_pixels in transformed_hulls_pixels_second:\n",
    "        real_coords_hull_pixels = transform(dataset_band_2.crs, new_crs, xs=[hull_pixels[0]], ys=[hull_pixels[1]])\n",
    "        real_coords_hulls_pixels_second.append([real_coords_hull_pixels[1][0], real_coords_hull_pixels[0][0]])\n",
    "\n",
    "    index = 0\n",
    "    side = 1 # 1 - first to second, 2 - second to first\n",
    "    while (len(real_coords_hulls_pixels_connected) < len(real_coords_hulls_pixels_first)):\n",
    "        if len(real_coords_hulls_pixels_connected) == len(real_coords_hulls_pixels_first) - 1:\n",
    "            real_coords_hulls_pixels_connected.append(real_coords_hulls_pixels_first[0])\n",
    "        else:\n",
    "            if side == 1:\n",
    "                real_coords_hulls_pixels_connected.append(real_coords_hulls_pixels_first[index])\n",
    "            else:\n",
    "                real_coords_hulls_pixels_connected.append(real_coords_hulls_pixels_second[index])\n",
    "\n",
    "\n",
    "            for i in range(len(real_coords_hulls_pixels_first)):\n",
    "                if side == 1:\n",
    "                    if real_coords_hulls_pixels_second[index] == real_coords_hulls_pixels_first[i]:\n",
    "                        index = i\n",
    "                        break\n",
    "                    elif real_coords_hulls_pixels_second[index] == real_coords_hulls_pixels_second[i] and index != i:\n",
    "                        index = i\n",
    "                        side = 2\n",
    "                        break\n",
    "                else:\n",
    "                    if real_coords_hulls_pixels_first[index] == real_coords_hulls_pixels_first[i] and index != i:\n",
    "                        index = i\n",
    "                        side = 1\n",
    "                        break\n",
    "                    elif real_coords_hulls_pixels_first[index] == real_coords_hulls_pixels_second[i]:\n",
    "                        index = i\n",
    "                        break\n",
    "\n",
    "    real_coords_hulls_pixels.append(real_coords_hulls_pixels_connected)\n",
    "\n",
    "transformed_centroid = np.array([move_to_real_coords(np.array([xi[1], xi[0]])) for xi in centroids])\n",
    "for centroid in transformed_centroid:\n",
    "    real_coords_centroid = transform(dataset_band_2.crs, new_crs, xs=[centroid[0]], ys=[centroid[1]])\n",
    "    real_coords_centroids.append([real_coords_centroid[1][0], real_coords_centroid[0][0]])\n",
    "\n",
    "if (SHOW_IMAGES):\n",
    "    for n in range(len(real_coords_hulls_pixels)):\n",
    "        plt.plot(real_coords_centroids[n][1], real_coords_centroids[n][0], 'rx', ms = 6)\n",
    "        for i in range(len(real_coords_hulls_pixels[n])):\n",
    "            plt.plot([real_coords_hulls_pixels[n][i][1], real_coords_hulls_pixels[n][(i + 1) % len(real_coords_hulls_pixels[n])][1]], [real_coords_hulls_pixels[n][i][0], real_coords_hulls_pixels[n][(i + 1) % len(real_coords_hulls_pixels[n])][0]], 'r-')\n",
    "    \n",
    "    plt.figure(figsize = (8, 8))\n",
    "    plt.show()"
   ]
  },
  {
   "cell_type": "code",
   "execution_count": 69,
   "metadata": {},
   "outputs": [],
   "source": [
    "if SHOW_DATA:    \n",
    "    print('surface_areas (m^2):')\n",
    "    print(surface_areas)\n",
    "    print('real_coords_centroids:')\n",
    "    print(real_coords_centroids)\n",
    "    print('real_coords_hulls_pixels:')\n",
    "    print(real_coords_hulls_pixels)"
   ]
  },
  {
   "cell_type": "markdown",
   "metadata": {},
   "source": [
    "### Saving to IBM Cloudant database"
   ]
  },
  {
   "cell_type": "code",
   "execution_count": 70,
   "metadata": {},
   "outputs": [],
   "source": [
    "def getTimestamp():\n",
    "    timestamp = filepath.split('/')[1].split('_')[2]\n",
    "    return timestamp[0:4] + '-' + timestamp[4:6] + '-' + timestamp[6:8] + ' ' + timestamp[9:11] + ':' + timestamp[11:13] + ':' + timestamp[13:15]\n",
    "\n",
    "if SAVE_TO_CLOUDANT:\n",
    "    authenticator = IAMAuthenticator(APIKEY)\n",
    "    service = CloudantV1(authenticator = authenticator)\n",
    "    service.set_service_url(URL)\n",
    "\n",
    "    for idx, key in enumerate(cluster_indexes_above_thre):\n",
    "        id = DATABASE_NAME_PREFIX + str(key)\n",
    "        \n",
    "        polygon = real_coords_hulls_pixels[idx]\n",
    "        centroid_point = real_coords_centroids[idx]\n",
    "        area = surface_areas[idx] / 10E6\n",
    "        timestamp = getTimestamp()\n",
    "\n",
    "        doc_to_add = ''\n",
    "        rev = ''\n",
    "        try:\n",
    "            rev = service.get_document(db = 'senti-water-polygons-2', doc_id = id).get_result()['_rev']\n",
    "            doc_to_add = Document(\n",
    "                id = id,\n",
    "                rev = rev,\n",
    "                type = \"FeatureCollection\",\n",
    "                features = [\n",
    "                    {\n",
    "                        \"type\": \"Feature\",\n",
    "                        \"geometry\": {\n",
    "                            \"type\": \"Point\",\n",
    "                            \"coordinates\": centroid_point[::-1]\n",
    "                        }\n",
    "                    },\n",
    "                    {\n",
    "                        \"type\": \"Feature\",\n",
    "                        \"geometry\": {\n",
    "                            \"type\": \"Polygon\",\n",
    "                            \"coordinates\": list(map(lambda polygon_point: polygon_point[::-1], polygon))\n",
    "                        }\n",
    "                    }\n",
    "                ],\n",
    "                properties = {\n",
    "                    \"name\": id,\n",
    "                    \"description\": \"\",\n",
    "                    \"area\": area,\n",
    "                    \"timestamp\": timestamp,\n",
    "                    \"dataset_id\": int(key),\n",
    "                }\n",
    "            )\n",
    "        except:\n",
    "            rev = ''\n",
    "            doc_to_add = Document(\n",
    "                id = id,\n",
    "                type = \"FeatureCollection\",\n",
    "                features = [\n",
    "                    {\n",
    "                        \"type\": \"Feature\",\n",
    "                        \"geometry\": {\n",
    "                            \"type\": \"Point\",\n",
    "                            \"coordinates\": centroid_point[::-1]\n",
    "                        }\n",
    "                    },\n",
    "                    {\n",
    "                        \"type\": \"Feature\",\n",
    "                        \"geometry\": {\n",
    "                            \"type\": \"Polygon\",\n",
    "                            \"coordinates\": list(map(lambda polygon_point: polygon_point[::-1], polygon))\n",
    "                        }\n",
    "                    }\n",
    "                ],\n",
    "                properties = {\n",
    "                    \"name\": id,\n",
    "                    \"description\": \"\",\n",
    "                    \"area\": area,\n",
    "                    \"timestamp\": timestamp,\n",
    "                    \"dataset_id\": int(key),\n",
    "                }\n",
    "            )\n",
    "\n",
    "        if (rev == ''):\n",
    "            print('new')\n",
    "            result = service.put_document(db='senti-water-polygons-2', doc_id = id, document = doc_to_add).get_result()\n",
    "            print(result)\n",
    "        else:\n",
    "            print('update')\n",
    "            result = service.post_document(db='senti-water-polygons-2', document = doc_to_add).get_result()\n",
    "            print(result)\n",
    "        time.sleep(0.25)"
   ]
  }
 ],
 "metadata": {
  "kernelspec": {
   "display_name": "Python 3.9.13 ('pfg_env_1')",
   "language": "python",
   "name": "python3"
  },
  "language_info": {
   "codemirror_mode": {
    "name": "ipython",
    "version": 3
   },
   "file_extension": ".py",
   "mimetype": "text/x-python",
   "name": "python",
   "nbconvert_exporter": "python",
   "pygments_lexer": "ipython3",
   "version": "3.9.13"
  },
  "orig_nbformat": 4,
  "vscode": {
   "interpreter": {
    "hash": "ddb36085c199f5d54b0f317b078ad1a3541f509f0958f97870d8b0e4ff59d5d2"
   }
  }
 },
 "nbformat": 4,
 "nbformat_minor": 2
}
